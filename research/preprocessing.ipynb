{
 "cells": [
  {
   "cell_type": "markdown",
   "metadata": {
    "collapsed": true,
    "pycharm": {
     "name": "#%% md\n"
    }
   },
   "source": [
    "# Fragrantica perfume review clasifier (Preprocessing)"
   ]
  },
  {
   "cell_type": "code",
   "execution_count": 67,
   "outputs": [],
   "source": [
    "import pandas as pd"
   ],
   "metadata": {
    "collapsed": false,
    "pycharm": {
     "name": "#%%\n"
    }
   }
  },
  {
   "cell_type": "code",
   "execution_count": 68,
   "outputs": [],
   "source": [
    "df = pd.read_csv('../dataset/ .csv')\n",
    "labels = pd.read_csv('../dataset/labels.csv')"
   ],
   "metadata": {
    "collapsed": false,
    "pycharm": {
     "name": "#%%\n"
    }
   }
  },
  {
   "cell_type": "code",
   "execution_count": 69,
   "outputs": [
    {
     "data": {
      "text/plain": "   Unnamed: 0  gender                    name  \\\n0           0  female  Alien Mugler for women   \n1           1  female  Alien Mugler for women   \n2           2  female  Alien Mugler for women   \n3           3  female  Alien Mugler for women   \n4           4  female  Alien Mugler for women   \n\n                              accords  \\\n0  ['white floral', 'amber', 'woody']   \n1  ['white floral', 'amber', 'woody']   \n2  ['white floral', 'amber', 'woody']   \n3  ['white floral', 'amber', 'woody']   \n4  ['white floral', 'amber', 'woody']   \n\n                                              review  \\\n0  Got a sample of this today, and my 9 year old ...   \n1  First impressions. Test on blotter.\\r\\nI have ...   \n2  This perfume reminds me of my best friend. Act...   \n3  Imagine tripping over your own feet and fallin...   \n4  Gorgeous Gorgeous Blend ..\\r\\nLove the scent.....   \n\n                                           tokenized  \\\n0  ['got', 'a', 'sample', 'of', 'this', 'today', ...   \n1  ['first', 'impressions.', 'test', 'on', 'blott...   \n2  ['this', 'perfume', 'reminds', 'me', 'of', 'my...   \n3  ['imagine', 'tripping', 'over', 'your', 'own',...   \n4  ['gorgeous', 'gorgeous', 'blend', '..', 'love'...   \n\n                                        only_english  \\\n0  ['got', 'a', 'sample', 'of', 'this', 'today', ...   \n1  ['first', 'impressions', 'test', 'on', 'blotte...   \n2  ['this', 'perfume', 'reminds', 'me', 'of', 'my...   \n3  ['imagine', 'tripping', 'over', 'your', 'own',...   \n4  ['gorgeous', 'gorgeous', 'blend', '', 'love', ...   \n\n                                     longer_than_2_A  \\\n0  ['got', 'sample', 'this', 'today', 'and', 'yea...   \n1  ['first', 'impressions', 'test', 'blotter', 'h...   \n2  ['this', 'perfume', 'reminds', 'best', 'friend...   \n3  ['imagine', 'tripping', 'over', 'your', 'own',...   \n4  ['gorgeous', 'gorgeous', 'blend', 'love', 'the...   \n\n                                   stopwords_removed  \\\n0  ['got', 'sample', 'today', 'year', 'old', 'dau...   \n1  ['first', 'impressions', 'test', 'blotter', 'h...   \n2  ['perfume', 'reminds', 'best', 'friend', 'actu...   \n3  ['imagine', 'tripping', 'feet', 'falling', 'fa...   \n4  ['gorgeous', 'gorgeous', 'blend', 'love', 'sce...   \n\n                                        lemmatizated  \n0  ['get', 'sample', 'today', 'year', 'old', 'dau...  \n1  ['first', 'impression', 'test', 'blotter', 'he...  \n2  ['perfume', 'reminds', 'best', 'friend', 'actu...  \n3  ['imagine', 'trip', 'foot', 'fall', 'face', 'f...  \n4  ['gorgeous', 'gorgeous', 'blend', 'love', 'sce...  ",
      "text/html": "<div>\n<style scoped>\n    .dataframe tbody tr th:only-of-type {\n        vertical-align: middle;\n    }\n\n    .dataframe tbody tr th {\n        vertical-align: top;\n    }\n\n    .dataframe thead th {\n        text-align: right;\n    }\n</style>\n<table border=\"1\" class=\"dataframe\">\n  <thead>\n    <tr style=\"text-align: right;\">\n      <th></th>\n      <th>Unnamed: 0</th>\n      <th>gender</th>\n      <th>name</th>\n      <th>accords</th>\n      <th>review</th>\n      <th>tokenized</th>\n      <th>only_english</th>\n      <th>longer_than_2_A</th>\n      <th>stopwords_removed</th>\n      <th>lemmatizated</th>\n    </tr>\n  </thead>\n  <tbody>\n    <tr>\n      <th>0</th>\n      <td>0</td>\n      <td>female</td>\n      <td>Alien Mugler for women</td>\n      <td>['white floral', 'amber', 'woody']</td>\n      <td>Got a sample of this today, and my 9 year old ...</td>\n      <td>['got', 'a', 'sample', 'of', 'this', 'today', ...</td>\n      <td>['got', 'a', 'sample', 'of', 'this', 'today', ...</td>\n      <td>['got', 'sample', 'this', 'today', 'and', 'yea...</td>\n      <td>['got', 'sample', 'today', 'year', 'old', 'dau...</td>\n      <td>['get', 'sample', 'today', 'year', 'old', 'dau...</td>\n    </tr>\n    <tr>\n      <th>1</th>\n      <td>1</td>\n      <td>female</td>\n      <td>Alien Mugler for women</td>\n      <td>['white floral', 'amber', 'woody']</td>\n      <td>First impressions. Test on blotter.\\r\\nI have ...</td>\n      <td>['first', 'impressions.', 'test', 'on', 'blott...</td>\n      <td>['first', 'impressions', 'test', 'on', 'blotte...</td>\n      <td>['first', 'impressions', 'test', 'blotter', 'h...</td>\n      <td>['first', 'impressions', 'test', 'blotter', 'h...</td>\n      <td>['first', 'impression', 'test', 'blotter', 'he...</td>\n    </tr>\n    <tr>\n      <th>2</th>\n      <td>2</td>\n      <td>female</td>\n      <td>Alien Mugler for women</td>\n      <td>['white floral', 'amber', 'woody']</td>\n      <td>This perfume reminds me of my best friend. Act...</td>\n      <td>['this', 'perfume', 'reminds', 'me', 'of', 'my...</td>\n      <td>['this', 'perfume', 'reminds', 'me', 'of', 'my...</td>\n      <td>['this', 'perfume', 'reminds', 'best', 'friend...</td>\n      <td>['perfume', 'reminds', 'best', 'friend', 'actu...</td>\n      <td>['perfume', 'reminds', 'best', 'friend', 'actu...</td>\n    </tr>\n    <tr>\n      <th>3</th>\n      <td>3</td>\n      <td>female</td>\n      <td>Alien Mugler for women</td>\n      <td>['white floral', 'amber', 'woody']</td>\n      <td>Imagine tripping over your own feet and fallin...</td>\n      <td>['imagine', 'tripping', 'over', 'your', 'own',...</td>\n      <td>['imagine', 'tripping', 'over', 'your', 'own',...</td>\n      <td>['imagine', 'tripping', 'over', 'your', 'own',...</td>\n      <td>['imagine', 'tripping', 'feet', 'falling', 'fa...</td>\n      <td>['imagine', 'trip', 'foot', 'fall', 'face', 'f...</td>\n    </tr>\n    <tr>\n      <th>4</th>\n      <td>4</td>\n      <td>female</td>\n      <td>Alien Mugler for women</td>\n      <td>['white floral', 'amber', 'woody']</td>\n      <td>Gorgeous Gorgeous Blend ..\\r\\nLove the scent.....</td>\n      <td>['gorgeous', 'gorgeous', 'blend', '..', 'love'...</td>\n      <td>['gorgeous', 'gorgeous', 'blend', '', 'love', ...</td>\n      <td>['gorgeous', 'gorgeous', 'blend', 'love', 'the...</td>\n      <td>['gorgeous', 'gorgeous', 'blend', 'love', 'sce...</td>\n      <td>['gorgeous', 'gorgeous', 'blend', 'love', 'sce...</td>\n    </tr>\n  </tbody>\n</table>\n</div>"
     },
     "execution_count": 69,
     "metadata": {},
     "output_type": "execute_result"
    }
   ],
   "source": [
    "df.head()"
   ],
   "metadata": {
    "collapsed": false,
    "pycharm": {
     "name": "#%%\n"
    }
   }
  },
  {
   "cell_type": "code",
   "execution_count": 70,
   "outputs": [],
   "source": [
    "# Delete useless column\n",
    "\n",
    "df = df.drop('Unnamed: 0', axis=1)"
   ],
   "metadata": {
    "collapsed": false,
    "pycharm": {
     "name": "#%%\n"
    }
   }
  },
  {
   "cell_type": "code",
   "execution_count": 71,
   "outputs": [
    {
     "data": {
      "text/plain": "    Unnamed: 0                                          name  label\n0            0                        Alien Mugler for women    2.0\n1            1            Coco Mademoiselle Chanel for women    2.0\n2            2               Black Orchid Tom Ford for women    2.0\n3            3      Black Opium Yves Saint Laurent for women    2.0\n4            4      Hypnotic Poison Christian Dior for women    2.0\n..         ...                                           ...    ...\n84          84         Spicebomb Extreme Viktor&Rolf for men    1.0\n85          85                   Cool Water Davidoff for men    0.0\n86          86                Herod Parfums de Marly for men    1.0\n87          87  L’Homme Ideal Eau de Parfum Guerlain for men    1.0\n88          88      Jazz Club Maison Martin Margiela for men    1.0\n\n[89 rows x 3 columns]",
      "text/html": "<div>\n<style scoped>\n    .dataframe tbody tr th:only-of-type {\n        vertical-align: middle;\n    }\n\n    .dataframe tbody tr th {\n        vertical-align: top;\n    }\n\n    .dataframe thead th {\n        text-align: right;\n    }\n</style>\n<table border=\"1\" class=\"dataframe\">\n  <thead>\n    <tr style=\"text-align: right;\">\n      <th></th>\n      <th>Unnamed: 0</th>\n      <th>name</th>\n      <th>label</th>\n    </tr>\n  </thead>\n  <tbody>\n    <tr>\n      <th>0</th>\n      <td>0</td>\n      <td>Alien Mugler for women</td>\n      <td>2.0</td>\n    </tr>\n    <tr>\n      <th>1</th>\n      <td>1</td>\n      <td>Coco Mademoiselle Chanel for women</td>\n      <td>2.0</td>\n    </tr>\n    <tr>\n      <th>2</th>\n      <td>2</td>\n      <td>Black Orchid Tom Ford for women</td>\n      <td>2.0</td>\n    </tr>\n    <tr>\n      <th>3</th>\n      <td>3</td>\n      <td>Black Opium Yves Saint Laurent for women</td>\n      <td>2.0</td>\n    </tr>\n    <tr>\n      <th>4</th>\n      <td>4</td>\n      <td>Hypnotic Poison Christian Dior for women</td>\n      <td>2.0</td>\n    </tr>\n    <tr>\n      <th>...</th>\n      <td>...</td>\n      <td>...</td>\n      <td>...</td>\n    </tr>\n    <tr>\n      <th>84</th>\n      <td>84</td>\n      <td>Spicebomb Extreme Viktor&amp;Rolf for men</td>\n      <td>1.0</td>\n    </tr>\n    <tr>\n      <th>85</th>\n      <td>85</td>\n      <td>Cool Water Davidoff for men</td>\n      <td>0.0</td>\n    </tr>\n    <tr>\n      <th>86</th>\n      <td>86</td>\n      <td>Herod Parfums de Marly for men</td>\n      <td>1.0</td>\n    </tr>\n    <tr>\n      <th>87</th>\n      <td>87</td>\n      <td>L’Homme Ideal Eau de Parfum Guerlain for men</td>\n      <td>1.0</td>\n    </tr>\n    <tr>\n      <th>88</th>\n      <td>88</td>\n      <td>Jazz Club Maison Martin Margiela for men</td>\n      <td>1.0</td>\n    </tr>\n  </tbody>\n</table>\n<p>89 rows × 3 columns</p>\n</div>"
     },
     "execution_count": 71,
     "metadata": {},
     "output_type": "execute_result"
    }
   ],
   "source": [
    "labels"
   ],
   "metadata": {
    "collapsed": false,
    "pycharm": {
     "name": "#%%\n"
    }
   }
  },
  {
   "cell_type": "code",
   "execution_count": 72,
   "outputs": [
    {
     "name": "stdout",
     "output_type": "stream",
     "text": [
      "number of perfumes: 89\n",
      "number of perfumes with label: 89\n",
      "number of classes: 4\n",
      "number of null data: 75183\n"
     ]
    }
   ],
   "source": [
    "print(f'number of perfumes: {df.name.nunique()}')\n",
    "print(f'number of perfumes with label: {labels.name.nunique()}')\n",
    "print(f'number of classes: {labels.label.nunique()}')\n",
    "print(f'number of null data: {len(df.isna().values)}')"
   ],
   "metadata": {
    "collapsed": false,
    "pycharm": {
     "name": "#%%\n"
    }
   }
  },
  {
   "cell_type": "code",
   "execution_count": 73,
   "outputs": [
    {
     "name": "stdout",
     "output_type": "stream",
     "text": [
      "<class 'pandas.core.frame.DataFrame'>\n",
      "RangeIndex: 75183 entries, 0 to 75182\n",
      "Data columns (total 9 columns):\n",
      " #   Column             Non-Null Count  Dtype \n",
      "---  ------             --------------  ----- \n",
      " 0   gender             75183 non-null  object\n",
      " 1   name               75183 non-null  object\n",
      " 2   accords            75183 non-null  object\n",
      " 3   review             75182 non-null  object\n",
      " 4   tokenized          75183 non-null  object\n",
      " 5   only_english       75183 non-null  object\n",
      " 6   longer_than_2_A    75183 non-null  object\n",
      " 7   stopwords_removed  75183 non-null  object\n",
      " 8   lemmatizated       75183 non-null  object\n",
      "dtypes: object(9)\n",
      "memory usage: 5.2+ MB\n"
     ]
    }
   ],
   "source": [
    "df.info()"
   ],
   "metadata": {
    "collapsed": false,
    "pycharm": {
     "name": "#%%\n"
    }
   }
  },
  {
   "cell_type": "markdown",
   "source": [
    "## Null value 처리"
   ],
   "metadata": {
    "collapsed": false,
    "pycharm": {
     "name": "#%% md\n"
    }
   }
  },
  {
   "cell_type": "code",
   "execution_count": 74,
   "outputs": [],
   "source": [
    "is_na = df.isna().values"
   ],
   "metadata": {
    "collapsed": false,
    "pycharm": {
     "name": "#%%\n"
    }
   }
  },
  {
   "cell_type": "code",
   "execution_count": 75,
   "outputs": [
    {
     "name": "stdout",
     "output_type": "stream",
     "text": [
      "na value found in 68354\n",
      "gender                                                            male\n",
      "name                               Acqua di Gio Giorgio Armani for men\n",
      "accords              ['citrus', 'aromatic', 'marine', 'fresh spicy'...\n",
      "review                                                             NaN\n",
      "tokenized                                                           []\n",
      "only_english                                                        []\n",
      "longer_than_2_A                                                     []\n",
      "stopwords_removed                                                   []\n",
      "lemmatizated                                                        []\n",
      "Name: 68354, dtype: object\n"
     ]
    }
   ],
   "source": [
    "# NaN value 찾기\n",
    "\n",
    "na_indices = []\n",
    "for idx, row in enumerate(is_na):\n",
    "    if True in row:\n",
    "        print(f'na value found in {idx}')\n",
    "        print(df.iloc[idx])\n",
    "        na_indices.append(idx)"
   ],
   "metadata": {
    "collapsed": false,
    "pycharm": {
     "name": "#%%\n"
    }
   }
  },
  {
   "cell_type": "code",
   "execution_count": 76,
   "outputs": [],
   "source": [
    "for idx in na_indices:\n",
    "    df = df.drop(idx, axis=0)"
   ],
   "metadata": {
    "collapsed": false,
    "pycharm": {
     "name": "#%%\n"
    }
   }
  },
  {
   "cell_type": "code",
   "execution_count": 77,
   "outputs": [
    {
     "name": "stdout",
     "output_type": "stream",
     "text": [
      "<class 'pandas.core.frame.DataFrame'>\n",
      "Int64Index: 75182 entries, 0 to 75182\n",
      "Data columns (total 9 columns):\n",
      " #   Column             Non-Null Count  Dtype \n",
      "---  ------             --------------  ----- \n",
      " 0   gender             75182 non-null  object\n",
      " 1   name               75182 non-null  object\n",
      " 2   accords            75182 non-null  object\n",
      " 3   review             75182 non-null  object\n",
      " 4   tokenized          75182 non-null  object\n",
      " 5   only_english       75182 non-null  object\n",
      " 6   longer_than_2_A    75182 non-null  object\n",
      " 7   stopwords_removed  75182 non-null  object\n",
      " 8   lemmatizated       75182 non-null  object\n",
      "dtypes: object(9)\n",
      "memory usage: 5.7+ MB\n"
     ]
    }
   ],
   "source": [
    "df.info()"
   ],
   "metadata": {
    "collapsed": false,
    "pycharm": {
     "name": "#%%\n"
    }
   }
  },
  {
   "cell_type": "markdown",
   "source": [
    "## 중복 데이터 처리"
   ],
   "metadata": {
    "collapsed": false,
    "pycharm": {
     "name": "#%% md\n"
    }
   }
  },
  {
   "cell_type": "code",
   "execution_count": 78,
   "outputs": [
    {
     "data": {
      "text/plain": "74779"
     },
     "execution_count": 78,
     "metadata": {},
     "output_type": "execute_result"
    }
   ],
   "source": [
    "# 75182 VS 74779\n",
    "# 중복 있다\n",
    "\n",
    "df['review'].nunique()"
   ],
   "metadata": {
    "collapsed": false,
    "pycharm": {
     "name": "#%%\n"
    }
   }
  },
  {
   "cell_type": "code",
   "execution_count": 79,
   "outputs": [],
   "source": [
    "# 중복 제거\n",
    "\n",
    "df.drop_duplicates(subset=['review'], inplace=True) # v2 열에서 중복인 내용이 있다면 중복 제거"
   ],
   "metadata": {
    "collapsed": false,
    "pycharm": {
     "name": "#%%\n"
    }
   }
  },
  {
   "cell_type": "code",
   "execution_count": 80,
   "outputs": [
    {
     "name": "stdout",
     "output_type": "stream",
     "text": [
      "총 샘플의 수 : 74779\n"
     ]
    }
   ],
   "source": [
    "print('총 샘플의 수 :',len(df))"
   ],
   "metadata": {
    "collapsed": false,
    "pycharm": {
     "name": "#%%\n"
    }
   }
  },
  {
   "cell_type": "markdown",
   "source": [
    "## 라벨링 하기"
   ],
   "metadata": {
    "collapsed": false,
    "pycharm": {
     "name": "#%% md\n"
    }
   }
  },
  {
   "cell_type": "code",
   "execution_count": 81,
   "outputs": [
    {
     "data": {
      "text/plain": "{'Alien Mugler for women': {'label': 2.0},\n 'Coco Mademoiselle Chanel for women': {'label': 2.0},\n 'Black Orchid Tom Ford for women': {'label': 2.0},\n 'Black Opium Yves Saint Laurent for women': {'label': 2.0},\n 'Hypnotic Poison Christian Dior for women': {'label': 2.0},\n 'La Vie Est Belle Lancome for women': {'label': 2.0},\n 'Mon Guerlain Guerlain for women': {'label': 2.0},\n 'Light Blue Dolce&Gabbana for women': {'label': 0.0},\n 'Libre Yves Saint Laurent for women': {'label': 2.0},\n 'Angel Mugler for women': {'label': 2.0},\n 'Good Girl Carolina Herrera for women': {'label': 2.0},\n 'Crystal Noir Versace for women': {'label': 2.0},\n 'Cloud Ariana Grande for women': {'label': 3.0},\n \"J'adore Christian Dior for women\": {'label': 2.0},\n 'Chloe Eau de Parfum Chloé for women': {'label': 2.0},\n 'Narciso Rodriguez For Her Narciso Rodriguez for women': {'label': 2.0},\n 'La Nuit Tresor Lancome for women': {'label': 2.0},\n \"L'Interdit Eau de Parfum Givenchy for women\": {'label': 2.0},\n 'Delina Parfums de Marly for women': {'label': 3.0},\n 'Shalimar Eau de Parfum Guerlain for women': {'label': 1.0},\n 'Flowerbomb Viktor&Rolf for women': {'label': 2.0},\n 'Olympéa Paco Rabanne for women': {'label': 2.0},\n 'Chance Eau Tendre Chanel for women': {'label': 0.0},\n \"D&G Anthology L'Imperatrice 3 Dolce&Gabbana for women\": {'label': 3.0},\n 'Pure Poison Christian Dior for women': {'label': 2.0},\n 'Angel Muse Mugler for women': {'label': 2.0},\n 'Si Giorgio Armani for women': {'label': 2.0},\n 'Burberry Her Burberry for women': {'label': 3.0},\n 'Euphoria Calvin Klein for women': {'label': 2.0},\n 'Portrait of a Lady Frederic Malle for women': {'label': 3.0},\n 'Baccarat Rouge 540 Maison Francis Kurkdjian for women and men': {'label': 3.0},\n 'Tobacco Vanille Tom Ford for women and men': {'label': 1.0},\n 'By the Fireplace Maison Martin Margiela for women and men': {'label': 1.0},\n 'Lost Cherry Tom Ford for women and men': {'label': 1.0},\n 'Layton Parfums de Marly for women and men': {'label': 1.0},\n 'Oud Wood Tom Ford for women and men': {'label': 1.0},\n 'Ombré Leather (2018) Tom Ford for women and men': {'label': 1.0},\n 'Cedrat Boise Mancera for women and men': {'label': 3.0},\n \"Angels' Share By Kilian for women and men\": {'label': 1.0},\n \"Bal d'Afrique Byredo for women and men\": {'label': 3.0},\n 'CK One Calvin Klein for women and men': {'label': 0.0},\n 'Intense Cafe Montale for women and men': {'label': 2.0},\n 'Grand Soir Maison Francis Kurkdjian for women and men': {'label': 1.0},\n 'Red Tobacco Mancera for women and men': {'label': 1.0},\n 'Wood Sage & Sea Salt Jo Malone London for women and men': {'label': 0.0},\n 'Baccarat Rouge 540 Extrait de Parfum Maison Francis Kurkdjian for women and men': {'label': 3.0},\n 'Chergui Serge Lutens for women and men': {'label': 1.0},\n 'Black Phantom By Kilian for women and men': {'label': 2.0},\n 'Black Afgano Nasomatto for women and men': {'label': 1.0},\n 'Molecule 01 Escentric Molecules for women and men': {'label': 1.0},\n 'Hacivat Nishane for women and men': {'label': 3.0},\n 'Ani Nishane for women and men': {'label': 1.0},\n 'Oud for Greatness Initio Parfums Prives for women and men': {'label': 1.0},\n 'Noir de Noir Tom Ford for women and men': {'label': 2.0},\n 'Mémoire d’une Odeur Gucci for women and men': {'label': 2.0},\n 'Un Jardin Sur Le Nil Hermès for women and men': {'label': 0.0},\n 'Tuscan Leather Tom Ford for women and men': {'label': 1.0},\n 'Musc Ravageur Frederic Malle for women and men': {'label': 1.0},\n \"02 L'Air du Desert Marocain Tauer Perfumes for women and men\": {'label': 1.0},\n 'Santal 33 Le Labo for women and men': {'label': 1.0},\n 'Aventus Creed for men': {'label': 3.0},\n \"La Nuit de l'Homme Yves Saint Laurent for men\": {'label': 0.0},\n 'Acqua di Giò Profumo Giorgio Armani for men': {'label': 0.0},\n 'Club de Nuit Intense Man Armaf for men': {'label': 3.0},\n 'Sauvage Christian Dior for men': {'label': 0.0},\n 'Dior Homme Intense 2011 Christian Dior for men': {'label': 1.0},\n 'Encre Noire Lalique for men': {'label': 2.0},\n 'Eros Versace for men': {'label': 0.0},\n \"Terre d'Hermes Hermès for men\": {'label': 0.0},\n \"Prada L'Homme Prada for men\": {'label': 0.0},\n 'The One for Men Eau de Parfum Dolce&Gabbana for men': {'label': 0.0},\n 'Versace Pour Homme Versace for men': {'label': 0.0},\n 'Versace Pour Homme Dylan Blue Versace for men': {'label': 0.0},\n 'Bleu de Chanel Chanel for men': {'label': 0.0},\n 'Explorer Montblanc for men': {'label': 3.0},\n 'Y Eau de Parfum Yves Saint Laurent for men': {'label': 0.0},\n 'Ultra Male Jean Paul Gaultier for men': {'label': 3.0},\n 'Allure Homme Sport Eau Extreme Chanel for men': {'label': 0.0},\n 'Acqua di Gio Giorgio Armani for men': {'label': 0.0},\n 'Toy Boy Moschino for men': {'label': 3.0},\n 'Bentley for Men Intense Bentley for men': {'label': 1.0},\n 'Le Male Jean Paul Gaultier for men': {'label': 0.0},\n 'Fahrenheit Christian Dior for men': {'label': 1.0},\n 'Bleu de Chanel Eau de Parfum Chanel for men': {'label': 0.0},\n 'Spicebomb Extreme Viktor&Rolf for men': {'label': 1.0},\n 'Cool Water Davidoff for men': {'label': 0.0},\n 'Herod Parfums de Marly for men': {'label': 1.0},\n 'L’Homme Ideal Eau de Parfum Guerlain for men': {'label': 1.0},\n 'Jazz Club Maison Martin Margiela for men': {'label': 1.0}}"
     },
     "execution_count": 81,
     "metadata": {},
     "output_type": "execute_result"
    }
   ],
   "source": [
    "label_dict = labels[['name', 'label']].set_index('name').to_dict('index')\n",
    "label_dict"
   ],
   "metadata": {
    "collapsed": false,
    "pycharm": {
     "name": "#%%\n"
    }
   }
  },
  {
   "cell_type": "code",
   "execution_count": 82,
   "outputs": [
    {
     "data": {
      "text/plain": "   gender                    name                             accords  \\\n0  female  Alien Mugler for women  ['white floral', 'amber', 'woody']   \n1  female  Alien Mugler for women  ['white floral', 'amber', 'woody']   \n2  female  Alien Mugler for women  ['white floral', 'amber', 'woody']   \n3  female  Alien Mugler for women  ['white floral', 'amber', 'woody']   \n4  female  Alien Mugler for women  ['white floral', 'amber', 'woody']   \n\n                                              review  \\\n0  Got a sample of this today, and my 9 year old ...   \n1  First impressions. Test on blotter.\\r\\nI have ...   \n2  This perfume reminds me of my best friend. Act...   \n3  Imagine tripping over your own feet and fallin...   \n4  Gorgeous Gorgeous Blend ..\\r\\nLove the scent.....   \n\n                                           tokenized  \\\n0  ['got', 'a', 'sample', 'of', 'this', 'today', ...   \n1  ['first', 'impressions.', 'test', 'on', 'blott...   \n2  ['this', 'perfume', 'reminds', 'me', 'of', 'my...   \n3  ['imagine', 'tripping', 'over', 'your', 'own',...   \n4  ['gorgeous', 'gorgeous', 'blend', '..', 'love'...   \n\n                                        only_english  \\\n0  ['got', 'a', 'sample', 'of', 'this', 'today', ...   \n1  ['first', 'impressions', 'test', 'on', 'blotte...   \n2  ['this', 'perfume', 'reminds', 'me', 'of', 'my...   \n3  ['imagine', 'tripping', 'over', 'your', 'own',...   \n4  ['gorgeous', 'gorgeous', 'blend', '', 'love', ...   \n\n                                     longer_than_2_A  \\\n0  ['got', 'sample', 'this', 'today', 'and', 'yea...   \n1  ['first', 'impressions', 'test', 'blotter', 'h...   \n2  ['this', 'perfume', 'reminds', 'best', 'friend...   \n3  ['imagine', 'tripping', 'over', 'your', 'own',...   \n4  ['gorgeous', 'gorgeous', 'blend', 'love', 'the...   \n\n                                   stopwords_removed  \\\n0  ['got', 'sample', 'today', 'year', 'old', 'dau...   \n1  ['first', 'impressions', 'test', 'blotter', 'h...   \n2  ['perfume', 'reminds', 'best', 'friend', 'actu...   \n3  ['imagine', 'tripping', 'feet', 'falling', 'fa...   \n4  ['gorgeous', 'gorgeous', 'blend', 'love', 'sce...   \n\n                                        lemmatizated  label  \n0  ['get', 'sample', 'today', 'year', 'old', 'dau...    2.0  \n1  ['first', 'impression', 'test', 'blotter', 'he...    2.0  \n2  ['perfume', 'reminds', 'best', 'friend', 'actu...    2.0  \n3  ['imagine', 'trip', 'foot', 'fall', 'face', 'f...    2.0  \n4  ['gorgeous', 'gorgeous', 'blend', 'love', 'sce...    2.0  ",
      "text/html": "<div>\n<style scoped>\n    .dataframe tbody tr th:only-of-type {\n        vertical-align: middle;\n    }\n\n    .dataframe tbody tr th {\n        vertical-align: top;\n    }\n\n    .dataframe thead th {\n        text-align: right;\n    }\n</style>\n<table border=\"1\" class=\"dataframe\">\n  <thead>\n    <tr style=\"text-align: right;\">\n      <th></th>\n      <th>gender</th>\n      <th>name</th>\n      <th>accords</th>\n      <th>review</th>\n      <th>tokenized</th>\n      <th>only_english</th>\n      <th>longer_than_2_A</th>\n      <th>stopwords_removed</th>\n      <th>lemmatizated</th>\n      <th>label</th>\n    </tr>\n  </thead>\n  <tbody>\n    <tr>\n      <th>0</th>\n      <td>female</td>\n      <td>Alien Mugler for women</td>\n      <td>['white floral', 'amber', 'woody']</td>\n      <td>Got a sample of this today, and my 9 year old ...</td>\n      <td>['got', 'a', 'sample', 'of', 'this', 'today', ...</td>\n      <td>['got', 'a', 'sample', 'of', 'this', 'today', ...</td>\n      <td>['got', 'sample', 'this', 'today', 'and', 'yea...</td>\n      <td>['got', 'sample', 'today', 'year', 'old', 'dau...</td>\n      <td>['get', 'sample', 'today', 'year', 'old', 'dau...</td>\n      <td>2.0</td>\n    </tr>\n    <tr>\n      <th>1</th>\n      <td>female</td>\n      <td>Alien Mugler for women</td>\n      <td>['white floral', 'amber', 'woody']</td>\n      <td>First impressions. Test on blotter.\\r\\nI have ...</td>\n      <td>['first', 'impressions.', 'test', 'on', 'blott...</td>\n      <td>['first', 'impressions', 'test', 'on', 'blotte...</td>\n      <td>['first', 'impressions', 'test', 'blotter', 'h...</td>\n      <td>['first', 'impressions', 'test', 'blotter', 'h...</td>\n      <td>['first', 'impression', 'test', 'blotter', 'he...</td>\n      <td>2.0</td>\n    </tr>\n    <tr>\n      <th>2</th>\n      <td>female</td>\n      <td>Alien Mugler for women</td>\n      <td>['white floral', 'amber', 'woody']</td>\n      <td>This perfume reminds me of my best friend. Act...</td>\n      <td>['this', 'perfume', 'reminds', 'me', 'of', 'my...</td>\n      <td>['this', 'perfume', 'reminds', 'me', 'of', 'my...</td>\n      <td>['this', 'perfume', 'reminds', 'best', 'friend...</td>\n      <td>['perfume', 'reminds', 'best', 'friend', 'actu...</td>\n      <td>['perfume', 'reminds', 'best', 'friend', 'actu...</td>\n      <td>2.0</td>\n    </tr>\n    <tr>\n      <th>3</th>\n      <td>female</td>\n      <td>Alien Mugler for women</td>\n      <td>['white floral', 'amber', 'woody']</td>\n      <td>Imagine tripping over your own feet and fallin...</td>\n      <td>['imagine', 'tripping', 'over', 'your', 'own',...</td>\n      <td>['imagine', 'tripping', 'over', 'your', 'own',...</td>\n      <td>['imagine', 'tripping', 'over', 'your', 'own',...</td>\n      <td>['imagine', 'tripping', 'feet', 'falling', 'fa...</td>\n      <td>['imagine', 'trip', 'foot', 'fall', 'face', 'f...</td>\n      <td>2.0</td>\n    </tr>\n    <tr>\n      <th>4</th>\n      <td>female</td>\n      <td>Alien Mugler for women</td>\n      <td>['white floral', 'amber', 'woody']</td>\n      <td>Gorgeous Gorgeous Blend ..\\r\\nLove the scent.....</td>\n      <td>['gorgeous', 'gorgeous', 'blend', '..', 'love'...</td>\n      <td>['gorgeous', 'gorgeous', 'blend', '', 'love', ...</td>\n      <td>['gorgeous', 'gorgeous', 'blend', 'love', 'the...</td>\n      <td>['gorgeous', 'gorgeous', 'blend', 'love', 'sce...</td>\n      <td>['gorgeous', 'gorgeous', 'blend', 'love', 'sce...</td>\n      <td>2.0</td>\n    </tr>\n  </tbody>\n</table>\n</div>"
     },
     "execution_count": 82,
     "metadata": {},
     "output_type": "execute_result"
    }
   ],
   "source": [
    "df['label'] = df['name'].map(lambda name: label_dict[name]['label'])\n",
    "df.head()"
   ],
   "metadata": {
    "collapsed": false,
    "pycharm": {
     "name": "#%%\n"
    }
   }
  },
  {
   "cell_type": "code",
   "execution_count": 84,
   "outputs": [
    {
     "name": "stdout",
     "output_type": "stream",
     "text": [
      "<class 'pandas.core.frame.DataFrame'>\n",
      "Int64Index: 74779 entries, 0 to 75182\n",
      "Data columns (total 10 columns):\n",
      " #   Column             Non-Null Count  Dtype  \n",
      "---  ------             --------------  -----  \n",
      " 0   gender             74779 non-null  object \n",
      " 1   name               74779 non-null  object \n",
      " 2   accords            74779 non-null  object \n",
      " 3   review             74779 non-null  object \n",
      " 4   tokenized          74779 non-null  object \n",
      " 5   only_english       74779 non-null  object \n",
      " 6   longer_than_2_A    74779 non-null  object \n",
      " 7   stopwords_removed  74779 non-null  object \n",
      " 8   lemmatizated       74779 non-null  object \n",
      " 9   label              74779 non-null  float64\n",
      "dtypes: float64(1), object(9)\n",
      "memory usage: 6.3+ MB\n"
     ]
    }
   ],
   "source": [
    "df.info()"
   ],
   "metadata": {
    "collapsed": false,
    "pycharm": {
     "name": "#%%\n"
    }
   }
  },
  {
   "cell_type": "code",
   "execution_count": 87,
   "outputs": [],
   "source": [
    "is_na = df.isna().values"
   ],
   "metadata": {
    "collapsed": false,
    "pycharm": {
     "name": "#%%\n"
    }
   }
  },
  {
   "cell_type": "code",
   "execution_count": 88,
   "outputs": [
    {
     "data": {
      "text/plain": "[]"
     },
     "execution_count": 88,
     "metadata": {},
     "output_type": "execute_result"
    }
   ],
   "source": [
    "# NaN value 찾기\n",
    "\n",
    "na_indices = []\n",
    "for idx, row in enumerate(is_na):\n",
    "    if True in row:\n",
    "        print(f'na value found in {idx}')\n",
    "        print(df.iloc[idx])\n",
    "        na_indices.append(idx)\n",
    "\n",
    "na_indices"
   ],
   "metadata": {
    "collapsed": false,
    "pycharm": {
     "name": "#%%\n"
    }
   }
  },
  {
   "cell_type": "code",
   "execution_count": null,
   "outputs": [],
   "source": [
    "df.to_csv('../dataset/dataset_210626.csv')\n",
    "\n"
   ],
   "metadata": {
    "collapsed": false,
    "pycharm": {
     "name": "#%%\n"
    }
   }
  }
 ],
 "metadata": {
  "kernelspec": {
   "name": "pycharm-2491b1d0",
   "language": "python",
   "display_name": "PyCharm (NLP_study)"
  },
  "language_info": {
   "codemirror_mode": {
    "name": "ipython",
    "version": 2
   },
   "file_extension": ".py",
   "mimetype": "text/x-python",
   "name": "python",
   "nbconvert_exporter": "python",
   "pygments_lexer": "ipython2",
   "version": "2.7.6"
  }
 },
 "nbformat": 4,
 "nbformat_minor": 0
}